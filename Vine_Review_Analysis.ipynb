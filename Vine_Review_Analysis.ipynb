{
  "nbformat": 4,
  "nbformat_minor": 0,
  "metadata": {
    "colab": {
      "name": "Vine_Review_Analysis.ipynb",
      "provenance": [],
      "authorship_tag": "ABX9TyPXmXGIQtSvlmh3m2MLIo3x",
      "include_colab_link": true
    },
    "kernelspec": {
      "name": "python3",
      "display_name": "Python 3"
    },
    "language_info": {
      "name": "python"
    }
  },
  "cells": [
    {
      "cell_type": "markdown",
      "metadata": {
        "id": "view-in-github",
        "colab_type": "text"
      },
      "source": [
        "<a href=\"https://colab.research.google.com/github/batty2021/Amazon_Vine_Analysis/blob/main/Vine_Review_Analysis.ipynb\" target=\"_parent\"><img src=\"https://colab.research.google.com/assets/colab-badge.svg\" alt=\"Open In Colab\"/></a>"
      ]
    },
    {
      "cell_type": "code",
      "execution_count": 1,
      "metadata": {
        "colab": {
          "base_uri": "https://localhost:8080/"
        },
        "id": "KFZ3zl9db2p2",
        "outputId": "717c4f46-a4de-4106-d60b-6c6d11a723a3"
      },
      "outputs": [
        {
          "output_type": "stream",
          "name": "stdout",
          "text": [
            "\r0% [Working]\r            \rGet:1 https://cloud.r-project.org/bin/linux/ubuntu bionic-cran40/ InRelease [3,626 B]\n",
            "\r0% [Waiting for headers] [Waiting for headers] [1 InRelease 0 B/3,626 B 0%] [Wa\r0% [Waiting for headers] [Waiting for headers] [Waiting for headers] [Waiting f\r0% [1 InRelease gpgv 3,626 B] [Waiting for headers] [Waiting for headers] [Wait\r                                                                               \rIgn:2 https://developer.download.nvidia.com/compute/cuda/repos/ubuntu1804/x86_64  InRelease\n",
            "\r0% [1 InRelease gpgv 3,626 B] [Waiting for headers] [Waiting for headers] [Wait\r                                                                               \rGet:3 http://security.ubuntu.com/ubuntu bionic-security InRelease [88.7 kB]\n",
            "Get:4 http://ppa.launchpad.net/c2d4u.team/c2d4u4.0+/ubuntu bionic InRelease [15.9 kB]\n",
            "Hit:5 http://archive.ubuntu.com/ubuntu bionic InRelease\n",
            "Ign:6 https://developer.download.nvidia.com/compute/machine-learning/repos/ubuntu1804/x86_64  InRelease\n",
            "Get:7 https://developer.download.nvidia.com/compute/cuda/repos/ubuntu1804/x86_64  Release [696 B]\n",
            "Hit:8 https://developer.download.nvidia.com/compute/machine-learning/repos/ubuntu1804/x86_64  Release\n",
            "Get:9 https://developer.download.nvidia.com/compute/cuda/repos/ubuntu1804/x86_64  Release.gpg [836 B]\n",
            "Get:10 http://archive.ubuntu.com/ubuntu bionic-updates InRelease [88.7 kB]\n",
            "Hit:11 http://ppa.launchpad.net/cran/libgit2/ubuntu bionic InRelease\n",
            "Get:12 http://archive.ubuntu.com/ubuntu bionic-backports InRelease [74.6 kB]\n",
            "Get:13 http://ppa.launchpad.net/deadsnakes/ppa/ubuntu bionic InRelease [15.9 kB]\n",
            "Hit:14 http://ppa.launchpad.net/graphics-drivers/ppa/ubuntu bionic InRelease\n",
            "Get:16 https://developer.download.nvidia.com/compute/cuda/repos/ubuntu1804/x86_64  Packages [953 kB]\n",
            "Get:17 http://ppa.launchpad.net/c2d4u.team/c2d4u4.0+/ubuntu bionic/main Sources [1,947 kB]\n",
            "Get:18 http://security.ubuntu.com/ubuntu bionic-security/main amd64 Packages [2,695 kB]\n",
            "Get:19 http://ppa.launchpad.net/c2d4u.team/c2d4u4.0+/ubuntu bionic/main amd64 Packages [996 kB]\n",
            "Get:20 http://security.ubuntu.com/ubuntu bionic-security/universe amd64 Packages [1,490 kB]\n",
            "Get:21 http://archive.ubuntu.com/ubuntu bionic-updates/universe amd64 Packages [2,268 kB]\n",
            "Get:22 http://archive.ubuntu.com/ubuntu bionic-updates/main amd64 Packages [3,134 kB]\n",
            "Get:23 http://ppa.launchpad.net/deadsnakes/ppa/ubuntu bionic/main amd64 Packages [45.3 kB]\n",
            "Fetched 13.8 MB in 7s (2,011 kB/s)\n",
            "Reading package lists... Done\n"
          ]
        }
      ],
      "source": [
        "import os\n",
        "# Find the latest version of spark 3.0 from http://www.apache.org/dist/spark/ and enter as the spark version\n",
        "# For example:\n",
        "# spark_version = 'spark-3.0.3'\n",
        "spark_version = 'spark-3.0.3'\n",
        "os.environ['SPARK_VERSION']=spark_version\n",
        "\n",
        "# Install Spark and Java\n",
        "!apt-get update\n",
        "!apt-get install openjdk-11-jdk-headless -qq > /dev/null\n",
        "!wget -q http://www.apache.org/dist/spark/$SPARK_VERSION/$SPARK_VERSION-bin-hadoop2.7.tgz\n",
        "!tar xf $SPARK_VERSION-bin-hadoop2.7.tgz\n",
        "!pip install -q findspark\n",
        "\n",
        "# Set Environment Variables\n",
        "import os\n",
        "os.environ[\"JAVA_HOME\"] = \"/usr/lib/jvm/java-11-openjdk-amd64\"\n",
        "os.environ[\"SPARK_HOME\"] = f\"/content/{spark_version}-bin-hadoop2.7\"\n",
        "\n",
        "# Start a SparkSession\n",
        "import findspark\n",
        "findspark.init()"
      ]
    },
    {
      "cell_type": "code",
      "source": [
        "# Download the Postgres driver that will allow Spark to interact with Postgres.\n",
        "!wget https://jdbc.postgresql.org/download/postgresql-42.2.16.jar"
      ],
      "metadata": {
        "colab": {
          "base_uri": "https://localhost:8080/"
        },
        "id": "uRE6WJj5dFBl",
        "outputId": "e219774a-d71d-48d4-cd2e-3a089266c9c4"
      },
      "execution_count": 2,
      "outputs": [
        {
          "output_type": "stream",
          "name": "stdout",
          "text": [
            "--2022-04-16 22:19:02--  https://jdbc.postgresql.org/download/postgresql-42.2.16.jar\n",
            "Resolving jdbc.postgresql.org (jdbc.postgresql.org)... 72.32.157.228, 2001:4800:3e1:1::228\n",
            "Connecting to jdbc.postgresql.org (jdbc.postgresql.org)|72.32.157.228|:443... connected.\n",
            "HTTP request sent, awaiting response... 200 OK\n",
            "Length: 1002883 (979K) [application/java-archive]\n",
            "Saving to: ‘postgresql-42.2.16.jar’\n",
            "\n",
            "postgresql-42.2.16. 100%[===================>] 979.38K  --.-KB/s    in 0.1s    \n",
            "\n",
            "2022-04-16 22:19:03 (6.47 MB/s) - ‘postgresql-42.2.16.jar’ saved [1002883/1002883]\n",
            "\n"
          ]
        }
      ]
    },
    {
      "cell_type": "code",
      "source": [
        "from pyspark.sql import SparkSession\n",
        "spark = SparkSession.builder.appName(\"M16-Amazon-Challenge\").config(\"spark.driver.extraClassPath\",\"/content/postgresql-42.2.16.jar\").getOrCreate()"
      ],
      "metadata": {
        "id": "7_R8GoaGdKK-"
      },
      "execution_count": 3,
      "outputs": []
    },
    {
      "cell_type": "code",
      "source": [
        "from pyspark import SparkFiles\n",
        "url = \"https://s3.amazonaws.com/amazon-reviews-pds/tsv/amazon_reviews_us_Office_Products_v1_00.tsv.gz\"\n",
        "spark.sparkContext.addFile(url)\n",
        "office_df = spark.read.option(\"encoding\", \"UTF-8\").csv(SparkFiles.get(\"\"), sep=\"\\t\", header=True, inferSchema=True)\n",
        "office_df.show()"
      ],
      "metadata": {
        "colab": {
          "base_uri": "https://localhost:8080/"
        },
        "id": "KEgn_qwCdPHQ",
        "outputId": "5b14e4f6-cac4-4640-98e6-2aa7c7260928"
      },
      "execution_count": 4,
      "outputs": [
        {
          "output_type": "stream",
          "name": "stdout",
          "text": [
            "+-----------+-----------+--------------+----------+--------------+--------------------+----------------+-----------+-------------+-----------+----+-----------------+--------------------+--------------------+-----------+\n",
            "|marketplace|customer_id|     review_id|product_id|product_parent|       product_title|product_category|star_rating|helpful_votes|total_votes|vine|verified_purchase|     review_headline|         review_body|review_date|\n",
            "+-----------+-----------+--------------+----------+--------------+--------------------+----------------+-----------+-------------+-----------+----+-----------------+--------------------+--------------------+-----------+\n",
            "|         US|   43081963|R18RVCKGH1SSI9|B001BM2MAC|     307809868|Scotch Cushion Wr...| Office Products|          5|            0|          0|   N|                Y|          Five Stars|      Great product.| 2015-08-31|\n",
            "|         US|   10951564|R3L4L6LW1PUOFY|B00DZYEXPQ|      75004341|Dust-Off Compress...| Office Products|          5|            0|          1|   N|                Y|Phffffffft, Phfff...|What's to say abo...| 2015-08-31|\n",
            "|         US|   21143145|R2J8AWXWTDX2TF|B00RTMUHDW|     529689027|Amram Tagger Stan...| Office Products|          5|            0|          0|   N|                Y|but I am sure I w...|Haven't used yet,...| 2015-08-31|\n",
            "|         US|   52782374|R1PR37BR7G3M6A|B00D7H8XB6|     868449945|AmazonBasics 12-S...| Office Products|          1|            2|          3|   N|                Y|and the shredder ...|Although this was...| 2015-08-31|\n",
            "|         US|   24045652|R3BDDDZMZBZDPU|B001XCWP34|      33521401|Derwent Colored P...| Office Products|          4|            0|          0|   N|                Y|          Four Stars|Gorgeous colors a...| 2015-08-31|\n",
            "|         US|   21751234| R8T6MO75ND212|B004J2NBCO|     214932869|Quartet Magnetic ...| Office Products|          5|            0|          0|   N|                Y|          Five Stars|Perfect for plann...| 2015-08-31|\n",
            "|         US|    9109358|R2YWMQT2V11XYZ|B00MOPAG8K|     863351797|KITLEX40X2592UNV2...| Office Products|          5|            0|          0|   N|                N|          Five Stars|Gold plated fuser...| 2015-08-31|\n",
            "|         US|    9967215|R1V2HYL6OI9V39|B003AHIK7U|     383470576|Bible Dry Highlig...| Office Products|          5|            6|          6|   N|                Y|Won't bleed throu...|I have used these...| 2015-08-31|\n",
            "|         US|   11234247|R3BLQBKUNXGFS4|B006TKH2RO|     999128878|Parker Ingenuity ...| Office Products|          5|            0|          0|   N|                Y|           Nice pen!|Heavy pen that wr...| 2015-08-31|\n",
            "|         US|   12731488|R17MOWJCAR9Y8Q|B00W61M9K0|     622066861| RFID Card Protector| Office Products|          5|            0|          0|   N|                Y| Credit card sleeves|Not sure if they ...| 2015-08-31|\n",
            "|         US|   49861762|R11EPG1GHOXMGB|B00BXOGI3A|     688569009|The Original Stan...| Office Products|          4|            0|          0|   N|                N|          Four Stars|Great product for...| 2015-08-31|\n",
            "|         US|    1541556|R2797NKTEX5THN|B0018RHWGE|     513803406|Zebra Sparky-1 WK...| Office Products|          5|            0|          0|   N|                Y|Love these highli...|Love these highli...| 2015-08-31|\n",
            "|         US|   10579374|R2RUTMJS50E4WF|B00IA8H2OG|     201212366|E-Z Ink (TM) Comp...| Office Products|          5|            0|          0|   N|                Y|          Five Stars|Received on time,...| 2015-08-31|\n",
            "|         US|   43622307|R1FZYL1HX7O4RM|B007TOIA66|     954138793|Eric 11\" Giant Si...| Office Products|          1|            0|          0|   N|                Y|            One Star|worked about a mo...| 2015-08-31|\n",
            "|         US|   50773856|R22ENT0KU5CHPX|B00EANURCE|      43216076|Brother MFCJ450 W...| Office Products|          5|            0|          0|   N|                Y|Brothers Wireless...|I purchased this ...| 2015-08-31|\n",
            "|         US|   10165223|R2E5M7FWJC9JLE|B00T3Q0EOO|     637096152|Clarity D613 DECT...| Office Products|          5|            0|          0|   N|                Y|          Five Stars|Everything works ...| 2015-08-31|\n",
            "|         US|   14744748|R31BNW3O2Q5J3E|B00WN0N818|     710040412|Permo 50 Feet Whi...| Office Products|          5|            0|          0|   N|                Y|          Five Stars|          Thank you!| 2015-08-31|\n",
            "|         US|   37536631|R1JMQF1OOMNF49|B001GAOTSW|     696023182|Pilot G2 Retracta...| Office Products|          5|            0|          0|   N|                Y|          Five Stars|     Love these pens| 2015-08-31|\n",
            "|         US|     126687| RJH6WQDOA6CZP|B003BNY7PW|     474277918|AT&T DECT 6.0 Acc...| Office Products|          5|            0|          0|   N|                Y|          Five Stars|The product is ev...| 2015-08-31|\n",
            "|         US|   31130095|R2EVL0Z5JVV86X|B00092RJX0|     887474295|Pilot G2 Retracta...| Office Products|          5|            0|          0|   N|                Y|          Five Stars|           Great buy| 2015-08-31|\n",
            "+-----------+-----------+--------------+----------+--------------+--------------------+----------------+-----------+-------------+-----------+----+-----------------+--------------------+--------------------+-----------+\n",
            "only showing top 20 rows\n",
            "\n"
          ]
        }
      ]
    },
    {
      "cell_type": "code",
      "source": [
        "# Create the vine_table. DataFrame\n",
        "from pyspark.sql.types import IntegerType\n",
        "vine_df = office_df.select([\"review_id\",\"star_rating\",\"helpful_votes\",\"total_votes\",\"vine\",\"verified_purchase\"])\n",
        "vine_df = vine_df.withColumn(\"star_rating\",vine_df[\"star_rating\"].cast(IntegerType()))\n",
        "vine_df.show()"
      ],
      "metadata": {
        "colab": {
          "base_uri": "https://localhost:8080/"
        },
        "id": "dhTP4Re2eq0A",
        "outputId": "1b776c8d-453c-4d0e-f533-acbe58767044"
      },
      "execution_count": 6,
      "outputs": [
        {
          "output_type": "stream",
          "name": "stdout",
          "text": [
            "+--------------+-----------+-------------+-----------+----+-----------------+\n",
            "|     review_id|star_rating|helpful_votes|total_votes|vine|verified_purchase|\n",
            "+--------------+-----------+-------------+-----------+----+-----------------+\n",
            "|R18RVCKGH1SSI9|          5|            0|          0|   N|                Y|\n",
            "|R3L4L6LW1PUOFY|          5|            0|          1|   N|                Y|\n",
            "|R2J8AWXWTDX2TF|          5|            0|          0|   N|                Y|\n",
            "|R1PR37BR7G3M6A|          1|            2|          3|   N|                Y|\n",
            "|R3BDDDZMZBZDPU|          4|            0|          0|   N|                Y|\n",
            "| R8T6MO75ND212|          5|            0|          0|   N|                Y|\n",
            "|R2YWMQT2V11XYZ|          5|            0|          0|   N|                N|\n",
            "|R1V2HYL6OI9V39|          5|            6|          6|   N|                Y|\n",
            "|R3BLQBKUNXGFS4|          5|            0|          0|   N|                Y|\n",
            "|R17MOWJCAR9Y8Q|          5|            0|          0|   N|                Y|\n",
            "|R11EPG1GHOXMGB|          4|            0|          0|   N|                N|\n",
            "|R2797NKTEX5THN|          5|            0|          0|   N|                Y|\n",
            "|R2RUTMJS50E4WF|          5|            0|          0|   N|                Y|\n",
            "|R1FZYL1HX7O4RM|          1|            0|          0|   N|                Y|\n",
            "|R22ENT0KU5CHPX|          5|            0|          0|   N|                Y|\n",
            "|R2E5M7FWJC9JLE|          5|            0|          0|   N|                Y|\n",
            "|R31BNW3O2Q5J3E|          5|            0|          0|   N|                Y|\n",
            "|R1JMQF1OOMNF49|          5|            0|          0|   N|                Y|\n",
            "| RJH6WQDOA6CZP|          5|            0|          0|   N|                Y|\n",
            "|R2EVL0Z5JVV86X|          5|            0|          0|   N|                Y|\n",
            "+--------------+-----------+-------------+-----------+----+-----------------+\n",
            "only showing top 20 rows\n",
            "\n"
          ]
        }
      ]
    },
    {
      "cell_type": "code",
      "source": [
        "# filter DataFrame for total_votes greater or equal to 20\n",
        "vine_analysis1_df = vine_df.filter(vine_df.total_votes>=20)\n",
        "\n",
        "vine_analysis_df.show()\n"
      ],
      "metadata": {
        "colab": {
          "base_uri": "https://localhost:8080/"
        },
        "id": "ZfeElThOfMtv",
        "outputId": "9aa20810-58e2-4343-aec1-a304618abe9c"
      },
      "execution_count": 12,
      "outputs": [
        {
          "output_type": "stream",
          "name": "stdout",
          "text": [
            "+--------------+-----------+-------------+-----------+----+-----------------+\n",
            "|     review_id|star_rating|helpful_votes|total_votes|vine|verified_purchase|\n",
            "+--------------+-----------+-------------+-----------+----+-----------------+\n",
            "|R243UXMMSSZVS6|          2|          254|        254|   N|                Y|\n",
            "|R2P92EHR0S5GBB|          1|          110|        159|   N|                Y|\n",
            "| RN93Z4XPNAANY|          5|           31|         31|   N|                Y|\n",
            "|R1O74T9XO3OPQ4|          5|           38|         38|   N|                Y|\n",
            "|R3DMIHE5BMUT0R|          3|           21|         21|   N|                Y|\n",
            "|R1QWY17NLHQSB5|          5|           36|         36|   N|                Y|\n",
            "|R3LANI678T2YQS|          5|           39|         47|   N|                N|\n",
            "| RLV4XQ49EBYYU|          1|           56|         65|   N|                Y|\n",
            "| RPBPAJKFD0T26|          5|           63|         63|   N|                Y|\n",
            "|R1IHO8C56KBN6C|          1|           61|         64|   N|                Y|\n",
            "|R3HZT0MTHYQBU7|          1|          221|        221|   N|                Y|\n",
            "|R2ETWIKUXWV2FA|          1|           15|         32|   N|                Y|\n",
            "|R1M9644S4471JU|          5|           20|         20|   N|                Y|\n",
            "| R6FPJVAWQ472P|          5|           33|         34|   N|                Y|\n",
            "| RYQ3KOWJLYPWW|          4|           19|         20|   N|                Y|\n",
            "|R2J6UYRU7AX8NS|          5|           23|         24|   N|                Y|\n",
            "|R32Y1KGXWPHEVP|          5|           44|         44|   N|                N|\n",
            "|R3M14RO30UBS32|          2|           22|         30|   N|                Y|\n",
            "|R1FJ1LLYMAIINJ|          2|           27|         28|   N|                Y|\n",
            "| RB32OZDWJ1MXB|          1|          161|        170|   N|                Y|\n",
            "+--------------+-----------+-------------+-----------+----+-----------------+\n",
            "only showing top 20 rows\n",
            "\n"
          ]
        }
      ]
    },
    {
      "cell_type": "code",
      "source": [
        "# Filter DataFrame for helpful_votes ratio above or equal to 50%\n",
        "vine_analysis2_df = vine_df.filter(vine_df.helpful_votes/vine_df.total_votes >=0.5)\n",
        "vine_analysis2_df.show()"
      ],
      "metadata": {
        "colab": {
          "base_uri": "https://localhost:8080/"
        },
        "id": "7TyTEqoLjTGp",
        "outputId": "316a8c16-e142-4053-e633-3cddb950c38c"
      },
      "execution_count": 15,
      "outputs": [
        {
          "output_type": "stream",
          "name": "stdout",
          "text": [
            "+--------------+-----------+-------------+-----------+----+-----------------+\n",
            "|     review_id|star_rating|helpful_votes|total_votes|vine|verified_purchase|\n",
            "+--------------+-----------+-------------+-----------+----+-----------------+\n",
            "|R1PR37BR7G3M6A|          1|            2|          3|   N|                Y|\n",
            "|R1V2HYL6OI9V39|          5|            6|          6|   N|                Y|\n",
            "| R8NWAB2MG94Z6|          1|            1|          1|   N|                Y|\n",
            "|R30E9O9RPVJ15T|          1|            1|          1|   N|                Y|\n",
            "|R10PO5EV793XK5|          5|            1|          1|   N|                Y|\n",
            "|R29944Q5MDY1PB|          5|            1|          1|   N|                Y|\n",
            "|R2EVJ1DGEMJNXP|          1|            1|          1|   N|                Y|\n",
            "|R2F4NAXC9B7PNM|          4|            1|          1|   N|                N|\n",
            "|R2FRHCKZ6LRWEY|          5|            2|          2|   N|                Y|\n",
            "|R25S94TBCAELZI|          1|            6|         10|   N|                Y|\n",
            "| R2MV54SC09RV1|          5|            1|          1|   N|                Y|\n",
            "| REAE5K2YLP6JC|          5|            2|          2|   N|                Y|\n",
            "|R25NT2FPKNEK2S|          5|            1|          2|   N|                Y|\n",
            "|R3SEXHY1W7WEHA|          1|            1|          1|   N|                Y|\n",
            "|R3CEYM45KOQ62F|          5|            1|          1|   N|                Y|\n",
            "|R3OAV7MSHATLST|          5|            3|          3|   N|                Y|\n",
            "|R3GF2Q2P172G5T|          1|            5|          5|   N|                Y|\n",
            "|R2D3XD6RFXJ7TU|          5|            1|          2|   N|                Y|\n",
            "|R2I9NV42MQ5Q8F|          5|            2|          3|   N|                Y|\n",
            "|R1Q50VLOUQFRPL|          5|            1|          1|   N|                Y|\n",
            "+--------------+-----------+-------------+-----------+----+-----------------+\n",
            "only showing top 20 rows\n",
            "\n"
          ]
        }
      ]
    },
    {
      "cell_type": "code",
      "source": [
        "# Create paid vine DataFrame\n",
        "paid_df = vine_df.filter(vine_df.vine =='Y')\n",
        "paid_df.show()"
      ],
      "metadata": {
        "colab": {
          "base_uri": "https://localhost:8080/"
        },
        "id": "l6G9q_vLky7z",
        "outputId": "ddb93ffe-c55c-4a23-ed85-2b0f40c191ba"
      },
      "execution_count": 28,
      "outputs": [
        {
          "output_type": "stream",
          "name": "stdout",
          "text": [
            "+--------------+-----------+-------------+-----------+----+-----------------+\n",
            "|     review_id|star_rating|helpful_votes|total_votes|vine|verified_purchase|\n",
            "+--------------+-----------+-------------+-----------+----+-----------------+\n",
            "|R2W2C9AQHPK31R|          5|            0|          0|   Y|                N|\n",
            "|R2DCXYKMNALS1O|          5|            0|          0|   Y|                N|\n",
            "|R21PW28B6AN7UZ|          3|            0|          0|   Y|                N|\n",
            "|R1R8X057QIPR5V|          4|            0|          0|   Y|                N|\n",
            "|R1D7JY5YFX00HB|          3|            0|          0|   Y|                N|\n",
            "|R3PDI31PQBXTDU|          4|            4|          4|   Y|                N|\n",
            "|R37L9A17GLWPX0|          5|            0|          0|   Y|                N|\n",
            "|R2G606CFV6UZ7H|          5|            0|          0|   Y|                N|\n",
            "| RY34TTQB2H0HY|          5|            0|          0|   Y|                N|\n",
            "| RI4OCYS72NGNH|          4|            0|          0|   Y|                N|\n",
            "|R2W990J61HSHK0|          4|            2|          3|   Y|                N|\n",
            "| R204X9WND9ULH|          4|            0|          0|   Y|                N|\n",
            "| RTXHLAL306IG3|          2|            0|          0|   Y|                N|\n",
            "|R2T96MYYJQKHR9|          3|            0|          1|   Y|                N|\n",
            "| RGHBW75HLART2|          5|            0|          0|   Y|                N|\n",
            "| RSJ7MZBG3LCP4|          5|            0|          0|   Y|                N|\n",
            "|R2QOTENY42BHC9|          2|            0|          0|   Y|                N|\n",
            "|R2PILUPMXLW2M4|          5|            0|          0|   Y|                N|\n",
            "|R35DB614K9WY4J|          5|            0|          0|   Y|                N|\n",
            "|R2QNDD2TN1L4K5|          1|            0|          0|   Y|                N|\n",
            "+--------------+-----------+-------------+-----------+----+-----------------+\n",
            "only showing top 20 rows\n",
            "\n"
          ]
        }
      ]
    },
    {
      "cell_type": "code",
      "source": [
        "# Create unpaid vine DataFrame\n",
        "unpaid_df = vine_df.filter(vine_df.vine =='N')\n",
        "unpaid_df.show()"
      ],
      "metadata": {
        "colab": {
          "base_uri": "https://localhost:8080/"
        },
        "id": "XC7gUj8Kldw5",
        "outputId": "aecbe5d0-7fc7-447a-860f-fa73a0df854f"
      },
      "execution_count": 36,
      "outputs": [
        {
          "output_type": "stream",
          "name": "stdout",
          "text": [
            "+--------------+-----------+-------------+-----------+----+-----------------+\n",
            "|     review_id|star_rating|helpful_votes|total_votes|vine|verified_purchase|\n",
            "+--------------+-----------+-------------+-----------+----+-----------------+\n",
            "|R18RVCKGH1SSI9|          5|            0|          0|   N|                Y|\n",
            "|R3L4L6LW1PUOFY|          5|            0|          1|   N|                Y|\n",
            "|R2J8AWXWTDX2TF|          5|            0|          0|   N|                Y|\n",
            "|R1PR37BR7G3M6A|          1|            2|          3|   N|                Y|\n",
            "|R3BDDDZMZBZDPU|          4|            0|          0|   N|                Y|\n",
            "| R8T6MO75ND212|          5|            0|          0|   N|                Y|\n",
            "|R2YWMQT2V11XYZ|          5|            0|          0|   N|                N|\n",
            "|R1V2HYL6OI9V39|          5|            6|          6|   N|                Y|\n",
            "|R3BLQBKUNXGFS4|          5|            0|          0|   N|                Y|\n",
            "|R17MOWJCAR9Y8Q|          5|            0|          0|   N|                Y|\n",
            "|R11EPG1GHOXMGB|          4|            0|          0|   N|                N|\n",
            "|R2797NKTEX5THN|          5|            0|          0|   N|                Y|\n",
            "|R2RUTMJS50E4WF|          5|            0|          0|   N|                Y|\n",
            "|R1FZYL1HX7O4RM|          1|            0|          0|   N|                Y|\n",
            "|R22ENT0KU5CHPX|          5|            0|          0|   N|                Y|\n",
            "|R2E5M7FWJC9JLE|          5|            0|          0|   N|                Y|\n",
            "|R31BNW3O2Q5J3E|          5|            0|          0|   N|                Y|\n",
            "|R1JMQF1OOMNF49|          5|            0|          0|   N|                Y|\n",
            "| RJH6WQDOA6CZP|          5|            0|          0|   N|                Y|\n",
            "|R2EVL0Z5JVV86X|          5|            0|          0|   N|                Y|\n",
            "+--------------+-----------+-------------+-----------+----+-----------------+\n",
            "only showing top 20 rows\n",
            "\n"
          ]
        }
      ]
    },
    {
      "cell_type": "code",
      "source": [
        "# paid total number of reviews\n",
        "total_paid_reviews = paid_df.count()\n",
        "total_paid_reviews"
      ],
      "metadata": {
        "colab": {
          "base_uri": "https://localhost:8080/"
        },
        "id": "ullMxEY2mOHz",
        "outputId": "ff35354d-a11f-48b8-8006-6abd9adc07c4"
      },
      "execution_count": 30,
      "outputs": [
        {
          "output_type": "execute_result",
          "data": {
            "text/plain": [
              "29188"
            ]
          },
          "metadata": {},
          "execution_count": 30
        }
      ]
    },
    {
      "cell_type": "code",
      "source": [
        "# paid 5-star reviews\n",
        "paid_five_star_reviews = paid_df.filter(paid_df.star_rating == 5).count()\n",
        "paid_five_star_reviews"
      ],
      "metadata": {
        "colab": {
          "base_uri": "https://localhost:8080/"
        },
        "id": "itit_NN5s_bW",
        "outputId": "e26c6954-ad00-4660-d095-5ffe11851c8d"
      },
      "execution_count": 31,
      "outputs": [
        {
          "output_type": "execute_result",
          "data": {
            "text/plain": [
              "14333"
            ]
          },
          "metadata": {},
          "execution_count": 31
        }
      ]
    },
    {
      "cell_type": "code",
      "source": [
        "# paid 5-star reviews percentage\n",
        "paid_five_star_percent = (paid_five_star_reviews / total_paid_reviews) * 100\n",
        "paid_five_star_percent"
      ],
      "metadata": {
        "colab": {
          "base_uri": "https://localhost:8080/"
        },
        "id": "lGmKvxFbtcre",
        "outputId": "3742e0cb-725c-4000-ae2b-6ea7a79ca9b1"
      },
      "execution_count": 32,
      "outputs": [
        {
          "output_type": "execute_result",
          "data": {
            "text/plain": [
              "49.105796902836786"
            ]
          },
          "metadata": {},
          "execution_count": 32
        }
      ]
    },
    {
      "cell_type": "code",
      "source": [
        "# unpaid total number of reviews\n",
        "total_unpaid_reviews = unpaid_df.count()\n",
        "total_unpaid_reviews"
      ],
      "metadata": {
        "colab": {
          "base_uri": "https://localhost:8080/"
        },
        "id": "sYvg3abrtnPB",
        "outputId": "8053cf72-f2cb-437a-f96d-93efc4c36814"
      },
      "execution_count": 33,
      "outputs": [
        {
          "output_type": "execute_result",
          "data": {
            "text/plain": [
              "2613215"
            ]
          },
          "metadata": {},
          "execution_count": 33
        }
      ]
    },
    {
      "cell_type": "code",
      "source": [
        "# unpaid 5-star reviews\n",
        "unpaid_five_star_reviews = unpaid_df.filter(unpaid_df.star_rating == 5).count()\n",
        "unpaid_five_star_reviews"
      ],
      "metadata": {
        "colab": {
          "base_uri": "https://localhost:8080/"
        },
        "id": "OnpqX6Ywt8rq",
        "outputId": "5175b5db-02cd-41ce-ed16-31f8edc35653"
      },
      "execution_count": 34,
      "outputs": [
        {
          "output_type": "execute_result",
          "data": {
            "text/plain": [
              "1569844"
            ]
          },
          "metadata": {},
          "execution_count": 34
        }
      ]
    },
    {
      "cell_type": "code",
      "source": [
        "# unpaid 5-star reviews percentage\n",
        "unpaid_five_star_percent = (unpaid_five_star_reviews / total_unpaid_reviews) * 100\n",
        "unpaid_five_star_percent"
      ],
      "metadata": {
        "colab": {
          "base_uri": "https://localhost:8080/"
        },
        "id": "cnrogY-nuDLr",
        "outputId": "c28fabd3-fddb-461c-dbc7-05abff7f78e6"
      },
      "execution_count": 35,
      "outputs": [
        {
          "output_type": "execute_result",
          "data": {
            "text/plain": [
              "60.073281379450215"
            ]
          },
          "metadata": {},
          "execution_count": 35
        }
      ]
    }
  ]
}